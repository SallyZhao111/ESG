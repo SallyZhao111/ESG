{
 "cells": [
  {
   "cell_type": "code",
   "execution_count": 3,
   "metadata": {},
   "outputs": [],
   "source": [
    "import pandas as pd"
   ]
  },
  {
   "cell_type": "code",
   "execution_count": 4,
   "metadata": {},
   "outputs": [],
   "source": [
    "path = r\"E:\\咨询\\论文\\待完成\\粘豆包\\data\\report\\ic_summary.pkl\"\n",
    "df = pd.read_pickle(path)\n",
    "df.to_excel(path.replace('pkl','xlsx'))"
   ]
  },
  {
   "cell_type": "code",
   "execution_count": 5,
   "metadata": {},
   "outputs": [],
   "source": [
    "path = r\"E:\\咨询\\论文\\待完成\\粘豆包\\data\\report\\ic_df.pkl\"\n",
    "df = pd.read_pickle(path)\n",
    "df.to_excel(path.replace('pkl','xlsx'))"
   ]
  },
  {
   "cell_type": "code",
   "execution_count": 6,
   "metadata": {},
   "outputs": [],
   "source": [
    "path = r\"E:\\咨询\\论文\\待完成\\粘豆包\\data\\model\\rolling\\ew_combo_test.pkl\"\n",
    "df = pd.read_pickle(path)\n",
    "df.to_excel(path.replace('pkl','xlsx'))"
   ]
  },
  {
   "cell_type": "code",
   "execution_count": null,
   "metadata": {},
   "outputs": [],
   "source": []
  }
 ],
 "metadata": {
  "kernelspec": {
   "display_name": "rq",
   "language": "python",
   "name": "python3"
  },
  "language_info": {
   "codemirror_mode": {
    "name": "ipython",
    "version": 3
   },
   "file_extension": ".py",
   "mimetype": "text/x-python",
   "name": "python",
   "nbconvert_exporter": "python",
   "pygments_lexer": "ipython3",
   "version": "3.9.18"
  }
 },
 "nbformat": 4,
 "nbformat_minor": 2
}
